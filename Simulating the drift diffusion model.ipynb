{
 "cells": [
  {
   "cell_type": "markdown",
   "id": "f6b1a2fb",
   "metadata": {},
   "source": [
    "# Simulating the drift diffusion model with stochastic differential equation"
   ]
  },
  {
   "cell_type": "markdown",
   "id": "1c862e73",
   "metadata": {},
   "source": [
    "We will use the stochastic differential equation to simulate the driftdiffusion model. For details see Tuerlinckx et al. (2001)."
   ]
  },
  {
   "cell_type": "markdown",
   "id": "1c78bc76",
   "metadata": {},
   "source": [
    "$$ \\Delta L(t) = L(t+h) - L(t) = x(t+h) = \\delta * h + \\sqrt h * \\epsilon (t+h)$$"
   ]
  },
  {
   "cell_type": "markdown",
   "id": "6ac03a7d",
   "metadata": {},
   "source": [
    "Import libraries "
   ]
  },
  {
   "cell_type": "code",
   "execution_count": 63,
   "id": "9da2c9b0",
   "metadata": {},
   "outputs": [],
   "source": [
    "import numpy as np\n",
    "import matplotlib.pyplot as plt"
   ]
  },
  {
   "cell_type": "markdown",
   "id": "ba4ef697",
   "metadata": {},
   "source": [
    "We need to specify the parameters"
   ]
  },
  {
   "cell_type": "code",
   "execution_count": 103,
   "id": "28047aa3",
   "metadata": {},
   "outputs": [],
   "source": [
    "h = .01 # the time step\n",
    "delta = .5 # the drift rate\n",
    "sigma =1 # the drift coefficient\n",
    "alpha = 2 # threshold separation...assuming bottom threshold is at 0\n",
    "beta = .5 # relative startpoint\n",
    "z = beta*alpha # set the start point based on threshold separation "
   ]
  },
  {
   "cell_type": "code",
   "execution_count": 110,
   "id": "6d5d1d26",
   "metadata": {},
   "outputs": [],
   "source": [
    "i = 0\n",
    "L = [z] #the accumulated evidence\n",
    "\n",
    "while L[i] >= 0 and L[i] <= alpha:\n",
    "    \n",
    "    i = i+1;\n",
    "    randomNorm = np.random.randn() # draw from std normal distribution\n",
    "    evidence = delta*h+(sigma*h**(.5))*randomNorm\n",
    "    L.append(L[i-1] + evidence) # accumulating evidence"
   ]
  },
  {
   "cell_type": "markdown",
   "id": "8844471c",
   "metadata": {},
   "source": [
    "the decision time\n"
   ]
  },
  {
   "cell_type": "code",
   "execution_count": 111,
   "id": "f74c4417",
   "metadata": {},
   "outputs": [],
   "source": [
    "decisionTime = i*h"
   ]
  },
  {
   "cell_type": "markdown",
   "id": "6e09608c",
   "metadata": {},
   "source": [
    "the choice True = Yes; False = No\n"
   ]
  },
  {
   "cell_type": "code",
   "execution_count": 112,
   "id": "d2534517",
   "metadata": {},
   "outputs": [],
   "source": [
    "choice = L[i]>=alpha"
   ]
  },
  {
   "cell_type": "markdown",
   "id": "564bae30",
   "metadata": {},
   "source": [
    "plot a trajectory\n"
   ]
  },
  {
   "cell_type": "code",
   "execution_count": 113,
   "id": "4e2e80da",
   "metadata": {},
   "outputs": [],
   "source": [
    "theTime = [i for i in np.arange(0*h,(i+1)*h,h)] # note that arange(start, stop, step),stop is not included in list"
   ]
  },
  {
   "cell_type": "code",
   "execution_count": 127,
   "id": "9e80a54d",
   "metadata": {},
   "outputs": [
    {
     "data": {
      "image/png": "[encoded data removed]",
      "text/plain": [
       "<Figure size 432x288 with 1 Axes>"
      ]
     },
     "metadata": {
      "needs_background": "light"
     },
     "output_type": "display_data"
    }
   ],
   "source": [
    "plt.plot(theTime, L)\n",
    "plt.axhline(y=0, color='r', linestyle='-') # bottom threshold\n",
    "plt.axhline(y=2, color='r', linestyle='-') # upper threshold\n",
    "plt.xlim([0,1.25*decisionTime])\n",
    "plt.ylim([-.20,alpha+.20])\n",
    "plt.text(1.1*decisionTime,alpha,'Yes', fontsize=20)\n",
    "plt.text(1.1*decisionTime,0,'No', fontsize=20)\n",
    "\n",
    "font = {'family':'serif','color':'blue','size':18}\n",
    "plt.xlabel('Time',fontdict= font)\n",
    "plt.ylabel('Evidence',fontdict= font)\n",
    "plt.show()"
   ]
  },
  {
   "cell_type": "markdown",
   "id": "16c12739",
   "metadata": {},
   "source": [
    "Note one issue with this simulation approach is that in the final step,\n",
    "the accumulated evidence ALWAYS overshoots the boundary, and this leads\n",
    "to inaccuracies in its approximations of the theoretical diffusion\n",
    "process see Luce (1986) and smith (1990). Heath and Kelly (1988) have an\n",
    "ad hoc method for correcting by widening the boundaries just a bit. So\n",
    "that "
   ]
  },
  {
   "cell_type": "markdown",
   "id": "00a22acf",
   "metadata": {},
   "source": [
    "$$\\alpha \\to \\alpha + \\zeta \\sigma \\sqrt h $$"
   ]
  },
  {
   "cell_type": "markdown",
   "id": "5f4c00c3",
   "metadata": {},
   "source": [
    "$$  0 \\to - \\zeta \\sigma \\sqrt h $$"
   ]
  },
  {
   "cell_type": "markdown",
   "id": "f7ca9aa3",
   "metadata": {},
   "source": [
    "we can get $$ \\zeta $$"
   ]
  },
  {
   "cell_type": "markdown",
   "id": "74a16f07",
   "metadata": {},
   "source": [
    "## Simulate a large number of runs"
   ]
  },
  {
   "cell_type": "code",
   "execution_count": 142,
   "id": "5827df77",
   "metadata": {},
   "outputs": [],
   "source": [
    "nd = 500 # number of simulated random walks\n",
    "reallylargenumber = int(7/(h*delta/sigma))  # to make sure all the simulated random walks will reach a threshold we make sure we generate enough randomnumbers\n",
    "giantRY = np.random.randn(nd, reallylargenumber) # to generate the evidence samples we will generate a matrix of nd x reallylargenumber\n",
    "y = delta*h+(sigma*h**.5)*giantRY # this matrix represents the random samples of evidence at each time point that we will accumulate to simulate the drift diffusion process\n",
    "#y = [np.zeros((nd,1))+z, y] # add a start point\n",
    "# L = np.cumsum(y, axis=1) # accumulate (cumulative sum) the information across the columns to reprsent Accumulated evidence "
   ]
  },
  {
   "cell_type": "code",
   "execution_count": 143,
   "id": "2ee5da22",
   "metadata": {},
   "outputs": [
    {
     "data": {
      "text/plain": [
       "array([[-0.03948754,  0.11657289, -0.05023246, ...,  0.06416737,\n",
       "        -0.02271806, -0.07836509],\n",
       "       [ 0.03571986, -0.07598161,  0.1124478 , ...,  0.03680023,\n",
       "         0.0217847 ,  0.05353746],\n",
       "       [-0.03498462,  0.05101688,  0.16084431, ...,  0.03735654,\n",
       "         0.01737952, -0.11945181],\n",
       "       ...,\n",
       "       [ 0.08293203,  0.08173008,  0.15891003, ...,  0.04047519,\n",
       "        -0.02265272, -0.03486299],\n",
       "       [-0.02142248, -0.07238784, -0.16812925, ...,  0.0646062 ,\n",
       "        -0.09559701,  0.00442617],\n",
       "       [-0.08070264,  0.14045692,  0.03562452, ..., -0.01437177,\n",
       "        -0.09556552,  0.00182575]])"
      ]
     },
     "execution_count": 143,
     "metadata": {},
     "output_type": "execute_result"
    }
   ],
   "source": [
    "y"
   ]
  },
  {
   "cell_type": "code",
   "execution_count": 133,
   "id": "ee645c0b",
   "metadata": {},
   "outputs": [
    {
     "data": {
      "text/plain": [
       "array([[ 1.00538936,  0.5160567 , -0.47933904, ...,  1.48156902,\n",
       "        -1.39611854, -0.37594697],\n",
       "       [ 0.3247866 , -1.88315829,  0.79062528, ..., -0.40339648,\n",
       "         1.97435497, -2.22561275],\n",
       "       [ 0.50346704, -0.73423766,  1.92015169, ...,  0.96752782,\n",
       "        -2.94274886, -1.03573361],\n",
       "       ...,\n",
       "       [-0.72226575, -0.0647092 ,  1.44438064, ..., -1.63101541,\n",
       "         0.42762962,  0.24771413],\n",
       "       [ 1.19337799,  0.47901859, -0.73801594, ..., -1.90374576,\n",
       "         0.6096794 , -0.08459691],\n",
       "       [-0.40700896,  0.88313974,  1.21051932, ...,  1.32422019,\n",
       "        -0.24786368,  0.44275901]])"
      ]
     },
     "execution_count": 133,
     "metadata": {},
     "output_type": "execute_result"
    }
   ],
   "source": [
    "np.random.randn(500, 1400)"
   ]
  },
  {
   "cell_type": "code",
   "execution_count": 132,
   "id": "915a90a0",
   "metadata": {},
   "outputs": [
    {
     "data": {
      "text/plain": [
       "500"
      ]
     },
     "execution_count": 132,
     "metadata": {},
     "output_type": "execute_result"
    }
   ],
   "source": [
    "nd\n"
   ]
  },
  {
   "cell_type": "code",
   "execution_count": null,
   "id": "9ad36593",
   "metadata": {},
   "outputs": [],
   "source": []
  }
 ],
 "metadata": {
  "kernelspec": {
   "display_name": "Python 3 (ipykernel)",
   "language": "python",
   "name": "python3"
  },
  "language_info": {
   "codemirror_mode": {
    "name": "ipython",
    "version": 3
   },
   "file_extension": ".py",
   "mimetype": "text/x-python",
   "name": "python",
   "nbconvert_exporter": "python",
   "pygments_lexer": "ipython3",
   "version": "3.7.11"
  }
 },
 "nbformat": 4,
 "nbformat_minor": 5
}
