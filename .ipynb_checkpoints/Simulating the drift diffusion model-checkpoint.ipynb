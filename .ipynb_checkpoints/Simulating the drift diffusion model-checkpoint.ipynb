{
 "cells": [
  {
   "cell_type": "markdown",
   "id": "f6b1a2fb",
   "metadata": {},
   "source": [
    "# Simulating the drift diffusion model with stochastic differential equation"
   ]
  },
  {
   "cell_type": "markdown",
   "id": "1c862e73",
   "metadata": {},
   "source": [
    "We will use the stochastic differential equation to simulate the driftdiffusion model. For details see Tuerlinckx et al. (2001)."
   ]
  },
  {
   "cell_type": "markdown",
   "id": "1c78bc76",
   "metadata": {},
   "source": [
    "$$ \\Delta L(t) = L(t+h) - L(t) = x(t+h) = \\delta * h + \\sqrt h * \\epsilon (t+h)$$"
   ]
  },
  {
   "cell_type": "markdown",
   "id": "6ac03a7d",
   "metadata": {},
   "source": [
    "Import libraries "
   ]
  },
  {
   "cell_type": "code",
   "execution_count": 297,
   "id": "9da2c9b0",
   "metadata": {},
   "outputs": [],
   "source": [
    "import numpy as np\n",
    "import matplotlib.pyplot as plt"
   ]
  },
  {
   "cell_type": "code",
   "execution_count": 1,
   "id": "48e3cbea",
   "metadata": {},
   "outputs": [
    {
     "data": {
      "text/plain": [
       "'/opt/homebrew/Cellar/jupyterlab/3.4.7/libexec/bin/python3.10'"
      ]
     },
     "execution_count": 1,
     "metadata": {},
     "output_type": "execute_result"
    }
   ],
   "source": [
    "import sys\n",
    "sys.executable"
   ]
  },
  {
   "cell_type": "markdown",
   "id": "ba4ef697",
   "metadata": {},
   "source": [
    "We need to specify the parameters"
   ]
  },
  {
   "cell_type": "code",
   "execution_count": 298,
   "id": "28047aa3",
   "metadata": {},
   "outputs": [],
   "source": [
    "h = .01 # the time step\n",
    "delta = .5 # the drift rate\n",
    "sigma =1 # the drift coefficient\n",
    "alpha = 2 # threshold separation...assuming bottom threshold is at 0\n",
    "beta = .5 # relative startpoint\n",
    "z = beta*alpha # set the start point based on threshold separation "
   ]
  },
  {
   "cell_type": "code",
   "execution_count": 299,
   "id": "6d5d1d26",
   "metadata": {},
   "outputs": [],
   "source": [
    "i = 0\n",
    "L = [z] #the accumulated evidence\n",
    "\n",
    "while L[i] >= 0 and L[i] <= alpha:\n",
    "    \n",
    "    i = i+1;\n",
    "    randomNorm = np.random.randn() # draw from std normal distribution\n",
    "    evidence = delta*h+(sigma*h**(.5))*randomNorm\n",
    "    L.append(L[i-1] + evidence) # accumulating evidence"
   ]
  },
  {
   "cell_type": "markdown",
   "id": "8844471c",
   "metadata": {},
   "source": [
    "the decision time\n"
   ]
  },
  {
   "cell_type": "code",
   "execution_count": 300,
   "id": "f74c4417",
   "metadata": {},
   "outputs": [],
   "source": [
    "decisionTime = i*h"
   ]
  },
  {
   "cell_type": "markdown",
   "id": "6e09608c",
   "metadata": {},
   "source": [
    "the choice True = Yes; False = No\n"
   ]
  },
  {
   "cell_type": "code",
   "execution_count": 301,
   "id": "d2534517",
   "metadata": {},
   "outputs": [
    {
     "name": "stdout",
     "output_type": "stream",
     "text": [
      "True\n"
     ]
    }
   ],
   "source": [
    "choice = L[i]>=alpha\n",
    "print(choice)"
   ]
  },
  {
   "cell_type": "markdown",
   "id": "564bae30",
   "metadata": {},
   "source": [
    "plot a trajectory\n"
   ]
  },
  {
   "cell_type": "code",
   "execution_count": 302,
   "id": "4e2e80da",
   "metadata": {},
   "outputs": [],
   "source": [
    "theTime = [i for i in np.arange(0*h,(i+1)*h,h)] # note that arange(start, stop, step),stop is not included in list"
   ]
  },
  {
   "cell_type": "code",
   "execution_count": 303,
   "id": "9e80a54d",
   "metadata": {},
   "outputs": [
    {
     "data": {
      "image/png": "[encoded data removed]",
      "text/plain": [
       "<Figure size 432x288 with 1 Axes>"
      ]
     },
     "metadata": {
      "needs_background": "light"
     },
     "output_type": "display_data"
    }
   ],
   "source": [
    "plt.plot(theTime, L)\n",
    "plt.axhline(y=0, color='r', linestyle='-') # bottom threshold\n",
    "plt.axhline(y=2, color='r', linestyle='-') # upper threshold\n",
    "plt.xlim([0,1.25*decisionTime])\n",
    "plt.ylim([-.20,alpha+.20])\n",
    "plt.text(1.1*decisionTime,alpha,'Yes', fontsize=20)\n",
    "plt.text(1.1*decisionTime,0,'No', fontsize=20)\n",
    "\n",
    "font = {'family':'serif','color':'blue','size':18}\n",
    "plt.xlabel('Time',fontdict= font)\n",
    "plt.ylabel('Evidence',fontdict= font)\n",
    "plt.show()"
   ]
  },
  {
   "cell_type": "markdown",
   "id": "16c12739",
   "metadata": {},
   "source": [
    "Note one issue with this simulation approach is that in the final step,\n",
    "the accumulated evidence ALWAYS overshoots the boundary, and this leads\n",
    "to inaccuracies in its approximations of the theoretical diffusion\n",
    "process see Luce (1986) and smith (1990). Heath and Kelly (1988) have an\n",
    "ad hoc method for correcting by widening the boundaries just a bit. So\n",
    "that "
   ]
  },
  {
   "cell_type": "markdown",
   "id": "00a22acf",
   "metadata": {},
   "source": [
    "$$\\alpha \\to \\alpha + \\zeta \\sigma \\sqrt h $$"
   ]
  },
  {
   "cell_type": "markdown",
   "id": "5f4c00c3",
   "metadata": {},
   "source": [
    "$$  0 \\to - \\zeta \\sigma \\sqrt h $$"
   ]
  },
  {
   "cell_type": "markdown",
   "id": "f7ca9aa3",
   "metadata": {},
   "source": [
    "we can get $$ \\zeta $$"
   ]
  },
  {
   "cell_type": "markdown",
   "id": "74a16f07",
   "metadata": {},
   "source": [
    "## Simulate a large number of runs"
   ]
  },
  {
   "cell_type": "code",
   "execution_count": 375,
   "id": "5827df77",
   "metadata": {},
   "outputs": [],
   "source": [
    "nd = 500 # number of simulated random walks\n",
    "reallylargenumber = int(7/(h*delta/sigma))  # to make sure all the simulated random walks will reach a threshold we make sure we generate enough randomnumbers\n",
    "giantRY = np.random.randn(nd, reallylargenumber) # to generate the evidence samples we will generate a matrix of nd x reallylargenumber\n",
    "y = delta*h+(sigma*h**.5)*giantRY # this matrix represents the random samples of evidence at each time point that we will accumulate to simulate the drift diffusion process\n",
    "y = np.concatenate((np.zeros((nd,1))+z, y),axis=1) # add a start point as the first element in each row\n",
    "L = np.cumsum(y, axis=1) # accumulate (cumulative sum) the information across the columns to reprsent Accumulated evidence "
   ]
  },
  {
   "cell_type": "code",
   "execution_count": 386,
   "id": "2ee5da22",
   "metadata": {},
   "outputs": [],
   "source": [
    "# get all the row and column indexes for the accumulated evidene that exceeds the thresholds.\n",
    "exceeds_index = np.argwhere((L>=alpha) | (L<=0) )"
   ]
  },
  {
   "cell_type": "code",
   "execution_count": 387,
   "id": "4e560c40",
   "metadata": {},
   "outputs": [],
   "source": [
    "# finds all the unique row indices where somewhere the accumulated evidence exceeded the boundary\n",
    "ur = list(set(exceeds_index[:,0]))"
   ]
  },
  {
   "cell_type": "code",
   "execution_count": 388,
   "id": "83429ea5",
   "metadata": {},
   "outputs": [
    {
     "name": "stdout",
     "output_type": "stream",
     "text": [
      "all simulated random walks reached a boundary\n"
     ]
    }
   ],
   "source": [
    "if len(ur) < nd:\n",
    "    print(nd - len(ur), \"simulated random walks did not reach a boundary\")\n",
    "else:\n",
    "    print(\"all simulated random walks reached a boundary\")"
   ]
  },
  {
   "cell_type": "code",
   "execution_count": 433,
   "id": "0b714e90",
   "metadata": {},
   "outputs": [],
   "source": [
    "# get the index of the first element that hits the boundary for each simulated walk\n",
    "first_exceed = [exceeds_index[0].tolist()]\n",
    "for i in range(1, exceeds_index.shape[0]):\n",
    "    if exceeds_index[i,0] != exceeds_index[i-1,0]:\n",
    "        first_exceed.append(exceeds_index[i].tolist())"
   ]
  },
  {
   "cell_type": "code",
   "execution_count": 460,
   "id": "db8dbaf8",
   "metadata": {},
   "outputs": [
    {
     "name": "stdout",
     "output_type": "stream",
     "text": [
      "Predicted mean decision time 1.0239800000000001\n"
     ]
    }
   ],
   "source": [
    "# get the decision time to hit the boundary\n",
    "decisionTime=[]\n",
    "for i in first_exceed:\n",
    "    decisionTime.append(i[1]*h)\n",
    "print(\"Predicted mean decision time\", np.mean(decisionTime))"
   ]
  },
  {
   "cell_type": "code",
   "execution_count": 481,
   "id": "d59d1393",
   "metadata": {},
   "outputs": [
    {
     "name": "stdout",
     "output_type": "stream",
     "text": [
      "Proportion Hitting Top Threshold was 0.728\n"
     ]
    }
   ],
   "source": [
    "# which threshold hit\n",
    "whichThreshold = []\n",
    "choice = []\n",
    "for i in first_exceed:\n",
    "    whichThreshold.append(L[i[0]][i[1]])\n",
    "    choice.append(L[i[0]][i[1]] >= alpha)\n",
    "print(\"Proportion Hitting Top Threshold was\", np.mean(choice))"
   ]
  },
  {
   "cell_type": "code",
   "execution_count": 466,
   "id": "932541af",
   "metadata": {},
   "outputs": [
    {
     "data": {
      "image/png": "[encoded data removed]",
      "text/plain": [
       "<Figure size 432x288 with 1 Axes>"
      ]
     },
     "metadata": {
      "needs_background": "light"
     },
     "output_type": "display_data"
    }
   ],
   "source": [
    "plt.hist(decisionTime,30);\n",
    "plt.title('Predicted Distribution of Decision Times')\n",
    "plt.show()"
   ]
  },
  {
   "cell_type": "code",
   "execution_count": 528,
   "id": "dbd3b856",
   "metadata": {},
   "outputs": [
    {
     "data": {
      "image/png": "[encoded data removed]",
      "text/plain": [
       "<Figure size 432x288 with 1 Axes>"
      ]
     },
     "metadata": {
      "needs_background": "light"
     },
     "output_type": "display_data"
    }
   ],
   "source": [
    "decisionTime_yes = [x for x, y in zip(decisionTime, choice) if y == True]\n",
    "\n",
    "plt.hist(decisionTime_yes,30)\n",
    "plt.title('Predicted Distribution of Decision Times for Yes')\n",
    "plt.show()"
   ]
  },
  {
   "cell_type": "markdown",
   "id": "8f46e1b4",
   "metadata": {},
   "source": [
    "## calculate choice proportions"
   ]
  },
  {
   "cell_type": "code",
   "execution_count": 500,
   "id": "7204ba80",
   "metadata": {},
   "outputs": [
    {
     "name": "stdout",
     "output_type": "stream",
     "text": [
      "Predicted Prob of Hitting Upper Boundary 0.731058578630005\n"
     ]
    }
   ],
   "source": [
    "prRs = (np.exp(2*delta*alpha/sigma**2) - np.exp(2*delta*(alpha-z)/sigma**2))/(np.exp(2*delta*alpha/sigma**2)-1)\n",
    "\n",
    "print(\"Predicted Prob of Hitting Upper Boundary\", prRs)"
   ]
  },
  {
   "cell_type": "code",
   "execution_count": 502,
   "id": "66cf6422",
   "metadata": {},
   "outputs": [
    {
     "name": "stdout",
     "output_type": "stream",
     "text": [
      "Predicted Prob of Hitting Lower Boundary 0.2689414213699951\n"
     ]
    }
   ],
   "source": [
    "prRn = (np.exp(-2*delta*alpha/sigma**2) - np.exp(-2*delta*z/sigma**2))/(np.exp(-2*delta*alpha/sigma**2)-1)\n",
    "       \n",
    "print(\"Predicted Prob of Hitting Lower Boundary\", prRn)\n"
   ]
  },
  {
   "cell_type": "markdown",
   "id": "f4d5a60c",
   "metadata": {},
   "source": [
    "## calculate response times"
   ]
  },
  {
   "cell_type": "code",
   "execution_count": 504,
   "id": "9c786a42",
   "metadata": {},
   "outputs": [
    {
     "name": "stdout",
     "output_type": "stream",
     "text": [
      "Predicted Time to hit upper boundary 0.9242343145200191\n"
     ]
    }
   ],
   "source": [
    "m_s = 2*delta/(sigma**2)\n",
    "m_n = -2*delta/(sigma**2)\n",
    "outside = 1/delta;\n",
    "inside1 = (alpha*np.exp(z*m_s)+alpha*np.exp(-(alpha-z)*m_s))/(np.exp(z*m_s)-np.exp(-(alpha-z)*m_s))\n",
    "inside2 = (z*np.exp(z*m_s)+z)/(np.exp(z*m_s)-1)\n",
    "ETRs = outside*(inside1 - inside2)\n",
    "print(\"Predicted Time to hit upper boundary\", ETRs)"
   ]
  },
  {
   "cell_type": "code",
   "execution_count": 506,
   "id": "71da6f24",
   "metadata": {},
   "outputs": [
    {
     "name": "stdout",
     "output_type": "stream",
     "text": [
      "Predicted Time to hit lower boundary  0.9242343145200191\n"
     ]
    }
   ],
   "source": [
    "outside = 1/delta;\n",
    "inside1 = (alpha*np.exp(z*m_s)+alpha*np.exp(-(alpha-z)*m_s))/(np.exp(z*m_s)-np.exp(-(alpha-z)*m_s))\n",
    "inside2 = ((alpha-z)*np.exp(-(alpha-z)*m_s)+(alpha-z))/(np.exp(-(alpha-z)*m_s)-1)\n",
    "ETRn = outside*(inside1 + inside2)\n",
    "print('Predicted Time to hit lower boundary ', ETRn)"
   ]
  },
  {
   "cell_type": "markdown",
   "id": "0f63ec8b",
   "metadata": {},
   "source": [
    "## Code up the joint cumulative probability distribution for obtaining a choice response less than T and responding shoot.\n"
   ]
  },
  {
   "cell_type": "code",
   "execution_count": 511,
   "id": "67372b23",
   "metadata": {},
   "outputs": [],
   "source": [
    "t =.1  # need a specific time\n",
    "# do this thing in parts\n",
    "A = np.pi*sigma**2/alpha**2\n",
    "B = np.exp(delta*(alpha-z)/sigma**2)\n",
    "k = 0\n",
    "S = 0\n",
    "mem1 = 1\n",
    "mem2 = 1\n",
    "tol = 10e-29\n",
    "k = 1;\n",
    "\n",
    "while (abs(mem1) > abs(S *tol) or abs(mem2) > abs(S*tol)):\n",
    "    #using tolerance method from Ratcliff & Tuerlinckx, 2002, p. 478\n",
    "    C = 2*k*np.sin(k*np.pi*(alpha-z)/alpha)\n",
    "    inside = (-delta)**2/sigma**2 + np.pi**2*k**2*sigma**2/alpha**2\n",
    "    D = np.exp(-.5*inside*t)\n",
    "    term = C*D/inside\n",
    "    mem2 = mem1\n",
    "    mem1 = term\n",
    "    S = S+ term\n",
    "    k = k+1"
   ]
  },
  {
   "cell_type": "code",
   "execution_count": 515,
   "id": "05997476",
   "metadata": {},
   "outputs": [
    {
     "data": {
      "text/plain": [
       "0.002553308778219354"
      ]
     },
     "execution_count": 515,
     "metadata": {},
     "output_type": "execute_result"
    }
   ],
   "source": [
    "CDF_RS = prRs - A*B*S\n",
    "CDF_RS"
   ]
  },
  {
   "cell_type": "markdown",
   "id": "a0453143",
   "metadata": {},
   "source": [
    "## Code up the joint cumulative probability distribution for obtaining a choice response less than T and responding no.\n"
   ]
  },
  {
   "cell_type": "code",
   "execution_count": 518,
   "id": "82b2a808",
   "metadata": {},
   "outputs": [],
   "source": [
    "t =10 # need a specific time\n",
    "# do this thing in parts\n",
    "A = np.pi*sigma**2/alpha**2\n",
    "B = np.exp(-delta*(z)/sigma**2)\n",
    "k = 0\n",
    "S = 0\n",
    "mem1 = 1\n",
    "mem2 = 1\n",
    "tol = 10e-29\n",
    "k = 1\n",
    "while ( abs(mem1) > abs(S*tol) or abs(mem2) > abs(S*tol)):\n",
    "    # using tolerance method from Ratcliff & Tuerlinckx, 2002, p. 478\n",
    "    C = 2*k*np.sin(k*np.pi*(z)/alpha)\n",
    "    inside = (delta)**2/sigma**2 + np.pi**2*k**2*sigma**2/alpha**2\n",
    "    D = np.exp(-.5*inside*t)\n",
    "    term = C*D/inside\n",
    "    mem2 = mem1\n",
    "    mem1 = term\n",
    "    S = S+ term\n",
    "    k = k+1"
   ]
  },
  {
   "cell_type": "code",
   "execution_count": 521,
   "id": "0b7c778f",
   "metadata": {},
   "outputs": [
    {
     "data": {
      "text/plain": [
       "0.26894098075692635"
      ]
     },
     "execution_count": 521,
     "metadata": {},
     "output_type": "execute_result"
    }
   ],
   "source": [
    "CDF_RN = prRn - A*B*S\n",
    "CDF_RN "
   ]
  },
  {
   "cell_type": "markdown",
   "id": "0f1cf97d",
   "metadata": {},
   "source": [
    "## plot the cdf for shoot and don't shoot\n"
   ]
  },
  {
   "cell_type": "code",
   "execution_count": null,
   "id": "e1557b1e",
   "metadata": {},
   "outputs": [],
   "source": []
  }
 ],
 "metadata": {
  "kernelspec": {
   "display_name": "Python 3 (ipykernel)",
   "language": "python",
   "name": "python3"
  },
  "language_info": {
   "codemirror_mode": {
    "name": "ipython",
    "version": 3
   },
   "file_extension": ".py",
   "mimetype": "text/x-python",
   "name": "python",
   "nbconvert_exporter": "python",
   "pygments_lexer": "ipython3",
   "version": "3.10.6"
  }
 },
 "nbformat": 4,
 "nbformat_minor": 5
}
