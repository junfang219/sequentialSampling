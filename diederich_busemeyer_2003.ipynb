{
 "cells": [
  {
   "cell_type": "markdown",
   "id": "aba83da1",
   "metadata": {},
   "source": [
    "## Simple random walk with two absorbing states"
   ]
  },
  {
   "cell_type": "code",
   "execution_count": 3,
   "id": "2dcaffe3",
   "metadata": {},
   "outputs": [],
   "source": [
    "import numpy as np"
   ]
  },
  {
   "cell_type": "code",
   "execution_count": 1,
   "id": "dd622e2e",
   "metadata": {},
   "outputs": [],
   "source": [
    "# criterion value\n",
    "theta = 3\n",
    "# total number of states\n",
    "m = 2*theta + 1\n",
    "# probabilities\n",
    "p = 0.6\n",
    "q = 1- p"
   ]
  },
  {
   "cell_type": "code",
   "execution_count": 41,
   "id": "00a772a8",
   "metadata": {},
   "outputs": [],
   "source": [
    "# constructing the transition probability\n",
    "tm = np.zeros((m,m))\n",
    "tm[0,0] = 1\n",
    "tm[m-1,m-1] = 1\n",
    "tm[1,0] = tm[2,1]=tm[3,2]=tm[4,3]=tm[5,4]=0.6\n",
    "tm[1,2] = tm[2,3]=tm[3,4]=tm[4,5]=tm[5,6]=0.4\n",
    "# rearrange P into Q R PI matrices\n",
    "new_col = [0,6,1,2,3,4,5]\n",
    "new_row = [0,6,1,2,3,4,5]\n",
    "tm = tm[:,new_col]\n",
    "tm = tm[new_row,:]"
   ]
  },
  {
   "cell_type": "code",
   "execution_count": 28,
   "id": "30e23e02",
   "metadata": {},
   "outputs": [],
   "source": [
    "# get Q R matrices from P\n",
    "Q = tm[2:,2:]\n",
    "R = tm[2:,:2]"
   ]
  },
  {
   "cell_type": "code",
   "execution_count": 30,
   "id": "985df47c",
   "metadata": {},
   "outputs": [],
   "source": [
    "# three different initial distributions\n",
    "Z1 = [0,0,1,0,0]\n",
    "Z2 = [0,0,0,1,0]\n",
    "Z3 = [0.05, 0.1, 0.7, 0.1, 0.05]\n",
    "# Identity matrix\n",
    "I = np.identity(m-2)"
   ]
  },
  {
   "cell_type": "code",
   "execution_count": 46,
   "id": "f6f634c3",
   "metadata": {},
   "outputs": [
    {
     "name": "stdout",
     "output_type": "stream",
     "text": [
      "0.7714285714285712 0.22857142857142856\n",
      "8.14285714285714 8.142857142857142\n"
     ]
    }
   ],
   "source": [
    "# choice probabilities for Z1\n",
    "[PrN, PrS]=np.matmul(np.matmul(Z1,np.linalg.inv(I-Q)),R)\n",
    "[EtN, EtS]=np.matmul(np.matmul(Z1,np.matmul(np.linalg.inv(I-Q),np.linalg.inv(I-Q))),R)/[PrN, PrS]\n",
    "print(PrN, PrS)\n",
    "print(EtN, EtS)"
   ]
  },
  {
   "cell_type": "code",
   "execution_count": 47,
   "id": "a33f7c0e",
   "metadata": {},
   "outputs": [
    {
     "name": "stdout",
     "output_type": "stream",
     "text": [
      "0.6090225563909772 0.39097744360902253\n",
      "9.774436090225562 5.928282244071716\n"
     ]
    }
   ],
   "source": [
    "# choice probabilities for Z2\n",
    "[PrN, PrS]=np.matmul(np.matmul(Z2,np.linalg.inv(I-Q)),R)\n",
    "[EtN, EtS]=np.matmul(np.matmul(Z2,np.matmul(np.linalg.inv(I-Q),np.linalg.inv(I-Q))),R)/[PrN, PrS]\n",
    "print(PrN, PrS)\n",
    "print(EtN, EtS)"
   ]
  },
  {
   "cell_type": "code",
   "execution_count": 48,
   "id": "643b1a05",
   "metadata": {},
   "outputs": [
    {
     "name": "stdout",
     "output_type": "stream",
     "text": [
      "0.7547368421052629 0.24526315789473682\n",
      "7.767861075282346 7.255122785504533\n"
     ]
    }
   ],
   "source": [
    "# choice probabilities for Z1\n",
    "[PrN, PrS]=np.matmul(np.matmul(Z3,np.linalg.inv(I-Q)),R)\n",
    "[EtN, EtS]=np.matmul(np.matmul(Z3,np.matmul(np.linalg.inv(I-Q),np.linalg.inv(I-Q))),R)/[PrN, PrS]\n",
    "print(PrN, PrS)\n",
    "print(EtN, EtS)"
   ]
  },
  {
   "cell_type": "code",
   "execution_count": null,
   "id": "8ef33d99",
   "metadata": {},
   "outputs": [],
   "source": []
  }
 ],
 "metadata": {
  "kernelspec": {
   "display_name": "Python 3 (ipykernel)",
   "language": "python",
   "name": "python3"
  },
  "language_info": {
   "codemirror_mode": {
    "name": "ipython",
    "version": 3
   },
   "file_extension": ".py",
   "mimetype": "text/x-python",
   "name": "python",
   "nbconvert_exporter": "python",
   "pygments_lexer": "ipython3",
   "version": "3.10.8"
  }
 },
 "nbformat": 4,
 "nbformat_minor": 5
}
